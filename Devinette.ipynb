{
 "cells": [
  {
   "cell_type": "code",
   "execution_count": 40,
   "metadata": {},
   "outputs": [
    {
     "name": "stdout",
     "output_type": "stream",
     "text": [
      "Bienvenue dans le jeu de devinette. Vous allez jouer deux parties de 5 fois\n",
      "veuillez choisir le nombre maximal 3\n",
      "Veuillez choisir un chiffre entre 1 et 3 3\n",
      "L'ordinateur a choisi 2\n",
      "Veuillez choisir un chiffre entre 1 et 3 3\n",
      "L'ordinateur a choisi 2\n",
      "Veuillez choisir un chiffre entre 1 et 3 3\n",
      "bien joué!\n",
      "Veuillez choisir un chiffre entre 1 et 3 3\n",
      "L'ordinateur a choisi 1\n",
      "Veuillez choisir un chiffre entre 1 et 3 3\n",
      "L'ordinateur a choisi 2\n",
      "veuillez choisir le nombre maximal 3\n",
      "Veuillez choisir un chiffre entre 1 et 3 3\n",
      "bien joué!\n",
      "Veuillez choisir un chiffre entre 1 et 3 3\n",
      "L'ordinateur a choisi 1\n",
      "Veuillez choisir un chiffre entre 1 et 3 3\n",
      "L'ordinateur a choisi 1\n",
      "Veuillez choisir un chiffre entre 1 et 3 3\n",
      "L'ordinateur a choisi 1\n",
      "Veuillez choisir un chiffre entre 1 et 3 3\n",
      "L'ordinateur a choisi 1\n",
      "Voici le résultat: partie 1: 1, partie 2: 1\n",
      "vous avez les mêmes nombres de points\n"
     ]
    }
   ],
   "source": [
    "import random\n",
    "\n",
    "print(\"Bienvenue dans le jeu de devinette. Vous allez jouer deux parties de 5 fois\")\n",
    "\n",
    "class devinette:\n",
    "\n",
    "    def jouer(self, max_num):\n",
    "        \n",
    "        self.points = 0\n",
    "        \n",
    "        for jeu in range(0,5):\n",
    "            \n",
    "            chiffre = random.randint(1, max_num)\n",
    "            dev = int(input(\"Veuillez choisir un chiffre entre 1 et {} \".format(max_num)))\n",
    "            \n",
    "            if chiffre == dev:\n",
    "                self.points += 1\n",
    "                print(\"bien joué!\")\n",
    "            \n",
    "            else:\n",
    "                print(\"L'ordinateur a choisi {}\".format(chiffre))\n",
    "        \n",
    "        return self.points\n",
    "\n",
    "\n",
    "# Commencement du jeu\n",
    "\n",
    "\n",
    "partie_1 = devinette()\n",
    "\n",
    "partie_1.jouer(int(input('veuillez choisir le nombre maximal ')))\n",
    "\n",
    "partie_2 = devinette()\n",
    "\n",
    "partie_2.jouer(int(input('veuillez choisir le nombre maximal ')))\n",
    "    \n",
    "       \n",
    "# Résultat de la partie\n",
    "\n",
    "print(\"Voici le résultat: partie 1: {}, partie 2: {}\".format(partie_1.points, partie_2.points))\n",
    "\n",
    "if partie_1.points < partie_2.points:\n",
    "    print(\"vous avez mieux joué lors du premier jeu\")\n",
    "    \n",
    "elif partie_1.points == partie_2.points:\n",
    "    \n",
    "    print(\"vous avez les mêmes nombres de points\")\n",
    "    \n",
    "else: print(\"vous avez mieux joué lors du second jeu\")"
   ]
  }
 ],
 "metadata": {
  "kernelspec": {
   "display_name": "Python 3",
   "language": "python",
   "name": "python3"
  },
  "language_info": {
   "codemirror_mode": {
    "name": "ipython",
    "version": 3
   },
   "file_extension": ".py",
   "mimetype": "text/x-python",
   "name": "python",
   "nbconvert_exporter": "python",
   "pygments_lexer": "ipython3",
   "version": "3.6.8"
  }
 },
 "nbformat": 4,
 "nbformat_minor": 2
}
